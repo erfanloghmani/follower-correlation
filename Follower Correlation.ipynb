{
 "cells": [
  {
   "cell_type": "code",
   "execution_count": 35,
   "metadata": {},
   "outputs": [],
   "source": [
    "from collections import defaultdict\n",
    "from datetime import datetime\n",
    "\n",
    "import numpy as np\n",
    "import seaborn as sns\n",
    "import pandas as pd\n",
    "\n",
    "import tweepy\n",
    "import time"
   ]
  },
  {
   "cell_type": "code",
   "execution_count": 4,
   "metadata": {},
   "outputs": [],
   "source": [
    "consumer_key = \"CONSUMER_KEY_HERE\"\n",
    "consumer_secret = \"CONSUMER_SECRET_HERE\"\n",
    "access_token_key = \"ACCESS_TOKEN_KEY_HERE\"\n",
    "access_token_secret = \"ACCESS_TOKEN_SECRET_HERE\""
   ]
  },
  {
   "cell_type": "code",
   "execution_count": 5,
   "metadata": {},
   "outputs": [],
   "source": [
    "auth = tweepy.OAuthHandler(consumer_key, consumer_secret)\n",
    "auth.set_access_token(access_token_key, access_token_secret)\n",
    "\n",
    "api = tweepy.API(auth)"
   ]
  },
  {
   "cell_type": "code",
   "execution_count": 6,
   "metadata": {},
   "outputs": [],
   "source": [
    "accounts_with_followers = {\n",
    "    'Tom_Slater_': 27.9,\n",
    "    'MattSingh_': 20.3,\n",
    "    'asabenn': 18.5,\n",
    "    'robfordmancs': 39.1,\n",
    "    'LadPolitics': 15.6,\n",
    "    'samgadjones': 14.1,\n",
    "    'PaulbernalUK': 40.3,\n",
    "    'youngvulgarian': 76.3,\n",
    "    'JolyonMaugham': 278.8,\n",
    "    'IanDunt': 319.2,\n",
    "    'BethRigby': 331.4,\n",
    "    'PatrickStrud': 37.9\n",
    "}"
   ]
  },
  {
   "cell_type": "code",
   "execution_count": 7,
   "metadata": {},
   "outputs": [],
   "source": [
    "username = 'Tom_Slater_'"
   ]
  },
  {
   "cell_type": "code",
   "execution_count": 39,
   "metadata": {},
   "outputs": [],
   "source": [
    "user_followers = defaultdict(list)"
   ]
  },
  {
   "cell_type": "code",
   "execution_count": 40,
   "metadata": {},
   "outputs": [
    {
     "name": "stdout",
     "output_type": "stream",
     "text": [
      "Tom_Slater_\n",
      "-1 0\n",
      "1672500762648239213 5000\n",
      "1659946385931639748 10000\n",
      "1640740756814190488 15000\n",
      "1608300961440582396 20000\n",
      "1559936254130644206 25000\n",
      "MattSingh_\n",
      "-1 0\n",
      "1652749445497528784 5000\n",
      "1609775252905742587 10000\n",
      "1564881433029646072 15000\n",
      "1502147948848289896 20000\n",
      "asabenn\n",
      "-1 0\n",
      "1620311107657986532 5000\n",
      "1557580077787709617 10000\n",
      "1498284007212848512 15000\n",
      "robfordmancs\n",
      "-1 0\n",
      "going to sleep 2021-04-08 13:40:41.073450\n",
      "-1 0\n",
      "going to sleep 2021-04-08 13:50:42.217137\n",
      "-1 0\n",
      "1668401859470375945 5000\n",
      "1650117300400025071 10000\n",
      "1636127562153171653 15000\n",
      "1611975710145794967 20000\n",
      "1575162186446706831 25000\n",
      "1550523448593465481 30000\n",
      "1502882222749111752 35000\n",
      "LadPolitics\n",
      "-1 0\n",
      "1570449574914461359 5000\n",
      "1482133299784644977 10000\n",
      "1327821159543999109 15000\n",
      "samgadjones\n",
      "-1 0\n",
      "1535561117044650602 5000\n",
      "1440911011952933039 10000\n",
      "PaulbernalUK\n",
      "-1 0\n",
      "going to sleep 2021-04-08 14:01:01.262392\n",
      "-1 0\n",
      "going to sleep 2021-04-08 14:11:02.139196\n",
      "-1 0\n",
      "1680269601857594441 5000\n",
      "1665842793846490402 10000\n",
      "1647737453601647549 15000\n",
      "1619719976681349778 20000\n",
      "1579257667426317343 25000\n",
      "1528720010077285006 30000\n",
      "1464260761516182807 35000\n",
      "youngvulgarian\n",
      "-1 0\n",
      "1670781489528959310 5000\n",
      "1662244735478742977 10000\n",
      "1651645727160122066 15000\n",
      "1642727692649186657 20000\n",
      "1631520757816232893 25000\n",
      "1624128448812996928 30000\n",
      "1616046449308516892 35000\n",
      "going to sleep 2021-04-08 14:21:20.288946\n",
      "1616046449308516892 35000\n",
      "going to sleep 2021-04-08 14:31:21.088861\n",
      "1616046449308516892 35000\n",
      "JolyonMaugham\n",
      "-1 0\n",
      "1694424896508382941 5000\n",
      "1692838917996726558 10000\n",
      "1692121336943643499 15000\n",
      "1689800143267234755 20000\n",
      "1687581960411690676 25000\n",
      "1684903220109250202 30000\n",
      "1683949119642312755 35000\n",
      "IanDunt\n",
      "-1 0\n",
      "1694204190261010635 5000\n",
      "1690504488022502523 10000\n",
      "1688092962559686745 15000\n",
      "1686518716123519461 20000\n",
      "1682843363229590959 25000\n",
      "1680512299399320288 30000\n",
      "going to sleep 2021-04-08 14:41:41.298836\n",
      "1680512299399320288 30000\n",
      "going to sleep 2021-04-08 14:51:42.647156\n",
      "1680512299399320288 30000\n",
      "1677838125556840922 35000\n",
      "BethRigby\n",
      "-1 0\n",
      "1690079727349748433 5000\n",
      "1687139054644266622 10000\n",
      "1684371933421128987 15000\n",
      "1682588601667500193 20000\n",
      "1682018256591540261 25000\n",
      "1679816897715051325 30000\n",
      "1677170000418190603 35000\n",
      "PatrickStrud\n",
      "-1 0\n",
      "1666650307684034750 5000\n",
      "1644131113404519376 10000\n",
      "1613568534234651988 15000\n",
      "1565011306891186751 20000\n",
      "1502057917439720931 25000\n",
      "going to sleep 2021-04-08 15:02:02.323659\n",
      "1502057917439720931 25000\n",
      "going to sleep 2021-04-08 15:12:03.191204\n",
      "1502057917439720931 25000\n",
      "1431749612867303893 30000\n",
      "1394535352169022787 35000\n"
     ]
    }
   ],
   "source": [
    "for username, follower_count in accounts_with_followers.items():\n",
    "    if username not in user_followers:\n",
    "        print(username)\n",
    "        user = api.get_user(username)\n",
    "        cursor = -1\n",
    "        while cursor != 0 and len(user_followers[username]) < 40000:\n",
    "            while True:\n",
    "                try:\n",
    "                    print(cursor, len(user_followers[username]))\n",
    "                    res = user.followers_ids(cursor=cursor)\n",
    "                    user_followers[username].extend(res[0])\n",
    "                    cursor = res[1][1]\n",
    "                    break\n",
    "                except tweepy.RateLimitError as e:\n",
    "                    print('going to sleep', datetime.now())\n",
    "                    time.sleep(10 * 60)"
   ]
  },
  {
   "cell_type": "code",
   "execution_count": 41,
   "metadata": {},
   "outputs": [
    {
     "data": {
      "text/plain": [
       "37908"
      ]
     },
     "execution_count": 41,
     "metadata": {},
     "output_type": "execute_result"
    }
   ],
   "source": [
    "len(user_followers['PatrickStrud'])"
   ]
  },
  {
   "cell_type": "code",
   "execution_count": 42,
   "metadata": {},
   "outputs": [
    {
     "name": "stdout",
     "output_type": "stream",
     "text": [
      "Tom_Slater_ 27916\n",
      "MattSingh_ 20396\n",
      "asabenn 18542\n",
      "robfordmancs 39112\n",
      "LadPolitics 15692\n",
      "samgadjones 14170\n",
      "PaulbernalUK 40000\n",
      "youngvulgarian 40000\n",
      "JolyonMaugham 40000\n",
      "IanDunt 40000\n",
      "BethRigby 40000\n",
      "PatrickStrud 37908\n"
     ]
    }
   ],
   "source": [
    "all_users = set()\n",
    "for username, flist in user_followers.items():\n",
    "    print(username, len(flist))\n",
    "    all_users |= set(flist)"
   ]
  },
  {
   "cell_type": "code",
   "execution_count": 43,
   "metadata": {},
   "outputs": [],
   "source": [
    "user_to_id = {}\n",
    "id_to_user = {}\n",
    "for i, user in enumerate(all_users):\n",
    "    user_to_id[user] = i\n",
    "    id_to_user[i] = user"
   ]
  },
  {
   "cell_type": "code",
   "execution_count": 44,
   "metadata": {},
   "outputs": [],
   "source": [
    "account_to_id = {}\n",
    "id_to_account = {}\n",
    "for i, account in enumerate(user_followers.keys()):\n",
    "    account_to_id[account] = i\n",
    "    id_to_account[i] = account"
   ]
  },
  {
   "cell_type": "code",
   "execution_count": 45,
   "metadata": {},
   "outputs": [],
   "source": [
    "user_following_mat = np.zeros((len(user_to_id), len(account_to_id)))"
   ]
  },
  {
   "cell_type": "code",
   "execution_count": 46,
   "metadata": {},
   "outputs": [
    {
     "name": "stdout",
     "output_type": "stream",
     "text": [
      "Tom_Slater_ 27916\n",
      "MattSingh_ 20396\n",
      "asabenn 18542\n",
      "robfordmancs 39112\n",
      "LadPolitics 15692\n",
      "samgadjones 14170\n",
      "PaulbernalUK 40000\n",
      "youngvulgarian 40000\n",
      "JolyonMaugham 40000\n",
      "IanDunt 40000\n",
      "BethRigby 40000\n",
      "PatrickStrud 37908\n"
     ]
    }
   ],
   "source": [
    "for account, flist in user_followers.items():\n",
    "    print(account, len(flist))\n",
    "    for user in flist:\n",
    "        user_following_mat[user_to_id[user], account_to_id[account]] = 1"
   ]
  },
  {
   "cell_type": "code",
   "execution_count": 47,
   "metadata": {},
   "outputs": [
    {
     "data": {
      "text/plain": [
       "array([27916., 20396., 18542., 39112., 15692., 14170., 40000., 40000.,\n",
       "       40000., 40000., 40000., 37908.])"
      ]
     },
     "execution_count": 47,
     "metadata": {},
     "output_type": "execute_result"
    }
   ],
   "source": [
    "user_following_mat.sum(0)"
   ]
  },
  {
   "cell_type": "code",
   "execution_count": 48,
   "metadata": {},
   "outputs": [
    {
     "name": "stderr",
     "output_type": "stream",
     "text": [
      "/home/erfan/.virtualenvs/research/lib/python3.6/site-packages/seaborn/distributions.py:2551: FutureWarning: `distplot` is a deprecated function and will be removed in a future version. Please adapt your code to use either `displot` (a figure-level function with similar flexibility) or `histplot` (an axes-level function for histograms).\n",
      "  warnings.warn(msg, FutureWarning)\n"
     ]
    },
    {
     "data": {
      "text/plain": [
       "<matplotlib.axes._subplots.AxesSubplot at 0x7f30a262ea20>"
      ]
     },
     "execution_count": 48,
     "metadata": {},
     "output_type": "execute_result"
    },
    {
     "data": {
      "image/png": "[encoded data removed]",
      "text/plain": [
       "<Figure size 432x288 with 1 Axes>"
      ]
     },
     "metadata": {
      "needs_background": "light"
     },
     "output_type": "display_data"
    }
   ],
   "source": [
    "sns.distplot(user_following_mat.sum(1))"
   ]
  },
  {
   "cell_type": "code",
   "execution_count": 49,
   "metadata": {},
   "outputs": [],
   "source": [
    "cors = np.corrcoef(user_following_mat.T)"
   ]
  },
  {
   "cell_type": "code",
   "execution_count": 50,
   "metadata": {},
   "outputs": [],
   "source": [
    "cors_df = pd.DataFrame(cors)\n",
    "cors_df.columns = list(user_followers.keys())\n",
    "cors_df.index = list(user_followers.keys())"
   ]
  },
  {
   "cell_type": "code",
   "execution_count": 51,
   "metadata": {},
   "outputs": [
    {
     "data": {
      "text/html": [
       "<div>\n",
       "<style scoped>\n",
       "    .dataframe tbody tr th:only-of-type {\n",
       "        vertical-align: middle;\n",
       "    }\n",
       "\n",
       "    .dataframe tbody tr th {\n",
       "        vertical-align: top;\n",
       "    }\n",
       "\n",
       "    .dataframe thead th {\n",
       "        text-align: right;\n",
       "    }\n",
       "</style>\n",
       "<table border=\"1\" class=\"dataframe\">\n",
       "  <thead>\n",
       "    <tr style=\"text-align: right;\">\n",
       "      <th></th>\n",
       "      <th>Tom_Slater_</th>\n",
       "      <th>MattSingh_</th>\n",
       "      <th>asabenn</th>\n",
       "      <th>robfordmancs</th>\n",
       "      <th>LadPolitics</th>\n",
       "      <th>samgadjones</th>\n",
       "      <th>PaulbernalUK</th>\n",
       "      <th>youngvulgarian</th>\n",
       "      <th>JolyonMaugham</th>\n",
       "      <th>IanDunt</th>\n",
       "      <th>BethRigby</th>\n",
       "      <th>PatrickStrud</th>\n",
       "    </tr>\n",
       "  </thead>\n",
       "  <tbody>\n",
       "    <tr>\n",
       "      <th>Tom_Slater_</th>\n",
       "      <td>1.000000</td>\n",
       "      <td>0.024305</td>\n",
       "      <td>0.060405</td>\n",
       "      <td>-0.038412</td>\n",
       "      <td>-0.027706</td>\n",
       "      <td>-0.028605</td>\n",
       "      <td>-0.087164</td>\n",
       "      <td>-0.081435</td>\n",
       "      <td>-0.111224</td>\n",
       "      <td>-0.107854</td>\n",
       "      <td>-0.107248</td>\n",
       "      <td>-0.092800</td>\n",
       "    </tr>\n",
       "    <tr>\n",
       "      <th>MattSingh_</th>\n",
       "      <td>0.024305</td>\n",
       "      <td>1.000000</td>\n",
       "      <td>0.134267</td>\n",
       "      <td>0.227515</td>\n",
       "      <td>0.101563</td>\n",
       "      <td>0.029389</td>\n",
       "      <td>-0.007275</td>\n",
       "      <td>-0.005330</td>\n",
       "      <td>-0.092071</td>\n",
       "      <td>-0.084914</td>\n",
       "      <td>-0.085108</td>\n",
       "      <td>-0.039825</td>\n",
       "    </tr>\n",
       "    <tr>\n",
       "      <th>asabenn</th>\n",
       "      <td>0.060405</td>\n",
       "      <td>0.134267</td>\n",
       "      <td>1.000000</td>\n",
       "      <td>0.074885</td>\n",
       "      <td>0.057388</td>\n",
       "      <td>0.032707</td>\n",
       "      <td>-0.029727</td>\n",
       "      <td>-0.031028</td>\n",
       "      <td>-0.092144</td>\n",
       "      <td>-0.090640</td>\n",
       "      <td>-0.089135</td>\n",
       "      <td>-0.031056</td>\n",
       "    </tr>\n",
       "    <tr>\n",
       "      <th>robfordmancs</th>\n",
       "      <td>-0.038412</td>\n",
       "      <td>0.227515</td>\n",
       "      <td>0.074885</td>\n",
       "      <td>1.000000</td>\n",
       "      <td>0.044264</td>\n",
       "      <td>-0.005095</td>\n",
       "      <td>0.008400</td>\n",
       "      <td>-0.015549</td>\n",
       "      <td>-0.131952</td>\n",
       "      <td>-0.122477</td>\n",
       "      <td>-0.126953</td>\n",
       "      <td>-0.072198</td>\n",
       "    </tr>\n",
       "    <tr>\n",
       "      <th>LadPolitics</th>\n",
       "      <td>-0.027706</td>\n",
       "      <td>0.101563</td>\n",
       "      <td>0.057388</td>\n",
       "      <td>0.044264</td>\n",
       "      <td>1.000000</td>\n",
       "      <td>-0.003140</td>\n",
       "      <td>-0.052515</td>\n",
       "      <td>-0.051064</td>\n",
       "      <td>-0.083083</td>\n",
       "      <td>-0.082731</td>\n",
       "      <td>-0.081368</td>\n",
       "      <td>-0.050762</td>\n",
       "    </tr>\n",
       "    <tr>\n",
       "      <th>samgadjones</th>\n",
       "      <td>-0.028605</td>\n",
       "      <td>0.029389</td>\n",
       "      <td>0.032707</td>\n",
       "      <td>-0.005095</td>\n",
       "      <td>-0.003140</td>\n",
       "      <td>1.000000</td>\n",
       "      <td>-0.043380</td>\n",
       "      <td>-0.056951</td>\n",
       "      <td>-0.082803</td>\n",
       "      <td>-0.082295</td>\n",
       "      <td>-0.082249</td>\n",
       "      <td>-0.043935</td>\n",
       "    </tr>\n",
       "    <tr>\n",
       "      <th>PaulbernalUK</th>\n",
       "      <td>-0.087164</td>\n",
       "      <td>-0.007275</td>\n",
       "      <td>-0.029727</td>\n",
       "      <td>0.008400</td>\n",
       "      <td>-0.052515</td>\n",
       "      <td>-0.043380</td>\n",
       "      <td>1.000000</td>\n",
       "      <td>-0.063992</td>\n",
       "      <td>-0.119640</td>\n",
       "      <td>-0.111032</td>\n",
       "      <td>-0.126002</td>\n",
       "      <td>-0.070709</td>\n",
       "    </tr>\n",
       "    <tr>\n",
       "      <th>youngvulgarian</th>\n",
       "      <td>-0.081435</td>\n",
       "      <td>-0.005330</td>\n",
       "      <td>-0.031028</td>\n",
       "      <td>-0.015549</td>\n",
       "      <td>-0.051064</td>\n",
       "      <td>-0.056951</td>\n",
       "      <td>-0.063992</td>\n",
       "      <td>1.000000</td>\n",
       "      <td>-0.130263</td>\n",
       "      <td>-0.123267</td>\n",
       "      <td>-0.128651</td>\n",
       "      <td>-0.086910</td>\n",
       "    </tr>\n",
       "    <tr>\n",
       "      <th>JolyonMaugham</th>\n",
       "      <td>-0.111224</td>\n",
       "      <td>-0.092071</td>\n",
       "      <td>-0.092144</td>\n",
       "      <td>-0.131952</td>\n",
       "      <td>-0.083083</td>\n",
       "      <td>-0.082803</td>\n",
       "      <td>-0.119640</td>\n",
       "      <td>-0.130263</td>\n",
       "      <td>1.000000</td>\n",
       "      <td>0.004323</td>\n",
       "      <td>-0.081898</td>\n",
       "      <td>-0.123906</td>\n",
       "    </tr>\n",
       "    <tr>\n",
       "      <th>IanDunt</th>\n",
       "      <td>-0.107854</td>\n",
       "      <td>-0.084914</td>\n",
       "      <td>-0.090640</td>\n",
       "      <td>-0.122477</td>\n",
       "      <td>-0.082731</td>\n",
       "      <td>-0.082295</td>\n",
       "      <td>-0.111032</td>\n",
       "      <td>-0.123267</td>\n",
       "      <td>0.004323</td>\n",
       "      <td>1.000000</td>\n",
       "      <td>-0.010330</td>\n",
       "      <td>-0.131300</td>\n",
       "    </tr>\n",
       "    <tr>\n",
       "      <th>BethRigby</th>\n",
       "      <td>-0.107248</td>\n",
       "      <td>-0.085108</td>\n",
       "      <td>-0.089135</td>\n",
       "      <td>-0.126953</td>\n",
       "      <td>-0.081368</td>\n",
       "      <td>-0.082249</td>\n",
       "      <td>-0.126002</td>\n",
       "      <td>-0.128651</td>\n",
       "      <td>-0.081898</td>\n",
       "      <td>-0.010330</td>\n",
       "      <td>1.000000</td>\n",
       "      <td>-0.133803</td>\n",
       "    </tr>\n",
       "    <tr>\n",
       "      <th>PatrickStrud</th>\n",
       "      <td>-0.092800</td>\n",
       "      <td>-0.039825</td>\n",
       "      <td>-0.031056</td>\n",
       "      <td>-0.072198</td>\n",
       "      <td>-0.050762</td>\n",
       "      <td>-0.043935</td>\n",
       "      <td>-0.070709</td>\n",
       "      <td>-0.086910</td>\n",
       "      <td>-0.123906</td>\n",
       "      <td>-0.131300</td>\n",
       "      <td>-0.133803</td>\n",
       "      <td>1.000000</td>\n",
       "    </tr>\n",
       "  </tbody>\n",
       "</table>\n",
       "</div>"
      ],
      "text/plain": [
       "                Tom_Slater_  MattSingh_   asabenn  robfordmancs  LadPolitics  \\\n",
       "Tom_Slater_        1.000000    0.024305  0.060405     -0.038412    -0.027706   \n",
       "MattSingh_         0.024305    1.000000  0.134267      0.227515     0.101563   \n",
       "asabenn            0.060405    0.134267  1.000000      0.074885     0.057388   \n",
       "robfordmancs      -0.038412    0.227515  0.074885      1.000000     0.044264   \n",
       "LadPolitics       -0.027706    0.101563  0.057388      0.044264     1.000000   \n",
       "samgadjones       -0.028605    0.029389  0.032707     -0.005095    -0.003140   \n",
       "PaulbernalUK      -0.087164   -0.007275 -0.029727      0.008400    -0.052515   \n",
       "youngvulgarian    -0.081435   -0.005330 -0.031028     -0.015549    -0.051064   \n",
       "JolyonMaugham     -0.111224   -0.092071 -0.092144     -0.131952    -0.083083   \n",
       "IanDunt           -0.107854   -0.084914 -0.090640     -0.122477    -0.082731   \n",
       "BethRigby         -0.107248   -0.085108 -0.089135     -0.126953    -0.081368   \n",
       "PatrickStrud      -0.092800   -0.039825 -0.031056     -0.072198    -0.050762   \n",
       "\n",
       "                samgadjones  PaulbernalUK  youngvulgarian  JolyonMaugham  \\\n",
       "Tom_Slater_       -0.028605     -0.087164       -0.081435      -0.111224   \n",
       "MattSingh_         0.029389     -0.007275       -0.005330      -0.092071   \n",
       "asabenn            0.032707     -0.029727       -0.031028      -0.092144   \n",
       "robfordmancs      -0.005095      0.008400       -0.015549      -0.131952   \n",
       "LadPolitics       -0.003140     -0.052515       -0.051064      -0.083083   \n",
       "samgadjones        1.000000     -0.043380       -0.056951      -0.082803   \n",
       "PaulbernalUK      -0.043380      1.000000       -0.063992      -0.119640   \n",
       "youngvulgarian    -0.056951     -0.063992        1.000000      -0.130263   \n",
       "JolyonMaugham     -0.082803     -0.119640       -0.130263       1.000000   \n",
       "IanDunt           -0.082295     -0.111032       -0.123267       0.004323   \n",
       "BethRigby         -0.082249     -0.126002       -0.128651      -0.081898   \n",
       "PatrickStrud      -0.043935     -0.070709       -0.086910      -0.123906   \n",
       "\n",
       "                 IanDunt  BethRigby  PatrickStrud  \n",
       "Tom_Slater_    -0.107854  -0.107248     -0.092800  \n",
       "MattSingh_     -0.084914  -0.085108     -0.039825  \n",
       "asabenn        -0.090640  -0.089135     -0.031056  \n",
       "robfordmancs   -0.122477  -0.126953     -0.072198  \n",
       "LadPolitics    -0.082731  -0.081368     -0.050762  \n",
       "samgadjones    -0.082295  -0.082249     -0.043935  \n",
       "PaulbernalUK   -0.111032  -0.126002     -0.070709  \n",
       "youngvulgarian -0.123267  -0.128651     -0.086910  \n",
       "JolyonMaugham   0.004323  -0.081898     -0.123906  \n",
       "IanDunt         1.000000  -0.010330     -0.131300  \n",
       "BethRigby      -0.010330   1.000000     -0.133803  \n",
       "PatrickStrud   -0.131300  -0.133803      1.000000  "
      ]
     },
     "execution_count": 51,
     "metadata": {},
     "output_type": "execute_result"
    }
   ],
   "source": [
    "cors_df"
   ]
  },
  {
   "cell_type": "code",
   "execution_count": 52,
   "metadata": {},
   "outputs": [
    {
     "data": {
      "image/png": "[encoded data removed]",
      "text/plain": [
       "<Figure size 1584x1584 with 4 Axes>"
      ]
     },
     "metadata": {
      "needs_background": "light"
     },
     "output_type": "display_data"
    }
   ],
   "source": [
    "g = sns.clustermap(cors_df, figsize=(22, 22),)"
   ]
  }
 ],
 "metadata": {
  "kernelspec": {
   "display_name": "Python 3",
   "language": "python",
   "name": "python3"
  },
  "language_info": {
   "codemirror_mode": {
    "name": "ipython",
    "version": 3
   },
   "file_extension": ".py",
   "mimetype": "text/x-python",
   "name": "python",
   "nbconvert_exporter": "python",
   "pygments_lexer": "ipython3",
   "version": "3.6.7"
  }
 },
 "nbformat": 4,
 "nbformat_minor": 2
}
